{
 "cells": [
  {
   "cell_type": "code",
   "execution_count": null,
   "id": "fa6c9dbc",
   "metadata": {},
   "outputs": [],
   "source": [
    "# 0201.py\n",
    "import cv2\n",
    "\n",
    "imageFile = './data/lena.jpg'\n",
    "img  = cv2.imread(imageFile)    # cv2.IMREAD_COLOR\n",
    "img2 = cv2.imread(imageFile, 0) # cv2.IMREAD_GRAYSCALE\n",
    "cv2.imshow('Lena color',img)\n",
    "cv2.imshow('Lena grayscale',img2)\n",
    "\n",
    "cv2.waitKey()\n",
    "cv2.destroyAllWindows()\n",
    "\n"
   ]
  },
  {
   "cell_type": "code",
   "execution_count": null,
   "id": "5d5f414e",
   "metadata": {},
   "outputs": [],
   "source": [
    "# 0202.py\n",
    "import cv2\n",
    "\n",
    "imageFile = './data/lena.jpg'\n",
    "img = cv2.imread(imageFile) # cv2.imread(imageFile, cv2.IMREAD_COLOR)\n",
    "cv2.imwrite('./data/Lena.bmp', img)\n",
    "cv2.imwrite('./data/Lena.png', img)\n",
    "cv2.imwrite('./data/Lena2.png',img, [cv2.IMWRITE_PNG_COMPRESSION, 9])\n",
    "cv2.imwrite('./data/Lena2.jpg', img, [cv2.IMWRITE_JPEG_QUALITY, 90])\n"
   ]
  },
  {
   "cell_type": "code",
   "execution_count": null,
   "id": "7f3a665c",
   "metadata": {},
   "outputs": [],
   "source": [
    "# 0203.py\n",
    "import cv2\n",
    "from   matplotlib import pyplot as plt\n",
    "\n",
    "imageFile = './data/lena.jpg'\n",
    "imgBGR = cv2.imread(imageFile) # cv2.IMREAD_COLOR\n",
    "plt.axis('off')\n",
    "#plt.imshow(imgBGR)\n",
    "#plt.show()\n",
    "\n",
    "imgRGB = cv2.cvtColor(imgBGR,cv2.COLOR_BGR2RGB)\n",
    "plt.imshow(imgRGB)\n",
    "plt.show()\n"
   ]
  },
  {
   "cell_type": "code",
   "execution_count": null,
   "id": "c801a485",
   "metadata": {},
   "outputs": [],
   "source": [
    "# 0204.py\n",
    "import cv2\n",
    "from   matplotlib import pyplot as plt\n",
    "\n",
    "imageFile = './data/lena.jpg'\n",
    "imgGray = cv2.imread(imageFile, cv2.IMREAD_GRAYSCALE)\n",
    "plt.axis('off')\n",
    "\n",
    "plt.imshow(imgGray, cmap = \"gray\", interpolation='bicubic')\n",
    "plt.show()\n"
   ]
  },
  {
   "cell_type": "code",
   "execution_count": null,
   "id": "01d5fcf7",
   "metadata": {},
   "outputs": [],
   "source": [
    "# 0205.py\n",
    "import cv2\n",
    "from   matplotlib import pyplot as plt\n",
    "\n",
    "imageFile = './data/lena.jpg'\n",
    "imgGray = cv2.imread(imageFile, cv2.IMREAD_GRAYSCALE)\n",
    "\n",
    "plt.figure(figsize=(6,6))\n",
    "plt.subplots_adjust(left=0, right=1, bottom=0, top=1)\n",
    "plt.imshow(imgGray, cmap = 'gray')\n",
    "##plt.axis('tight')\n",
    "plt.axis('off')\n",
    "plt.savefig('./data/0205.png')\n",
    "plt.show()\n"
   ]
  },
  {
   "cell_type": "code",
   "execution_count": null,
   "id": "3dcee6d8",
   "metadata": {},
   "outputs": [],
   "source": [
    "# 0206.py\n",
    "import cv2\n",
    "from   matplotlib import pyplot as plt\n",
    "\n",
    "path = './data/'\n",
    "imgBGR1 = cv2.imread(path+'lena.jpg')\n",
    "imgBGR2 = cv2.imread(path+'apple.jpg')\n",
    "imgBGR3 = cv2.imread(path+'baboon.jpg')\n",
    "imgBGR4 = cv2.imread(path+'orange.jpg')\n",
    "\n",
    "# 컬러 변환: BGR -> RGB\n",
    "imgRGB1 = cv2.cvtColor(imgBGR1, cv2.COLOR_BGR2RGB)\n",
    "imgRGB2 = cv2.cvtColor(imgBGR2, cv2.COLOR_BGR2RGB)\n",
    "imgRGB3 = cv2.cvtColor(imgBGR3, cv2.COLOR_BGR2RGB)\n",
    "imgRGB4 = cv2.cvtColor(imgBGR4, cv2.COLOR_BGR2RGB)\n",
    "\n",
    "fig, ax = plt.subplots(2, 2, figsize=(10,10), sharey=True)\n",
    "fig.canvas.set_window_title('Sample Pictures')\n",
    "\n",
    "ax[0][0].axis('off')\n",
    "ax[0][0].imshow(imgRGB1, aspect = 'auto')\n",
    "\n",
    "ax[0][1].axis('off')\n",
    "ax[0][1].imshow(imgRGB2, aspect = 'auto')\n",
    "\n",
    "ax[1][0].axis(\"off\")\n",
    "ax[1][0].imshow(imgRGB3, aspect = \"auto\")\n",
    "\n",
    "ax[1][0].axis(\"off\")\n",
    "ax[1][1].imshow(imgRGB4, aspect = 'auto')\n",
    "\n",
    "plt.subplots_adjust(left=0, bottom=0, right=1, top=1,\n",
    "                    wspace=0.05, hspace=0.05)\n",
    "plt.savefig(\"./data/0206.png\", bbox_inches='tight')\n",
    "plt.show()\n"
   ]
  },
  {
   "cell_type": "code",
   "execution_count": null,
   "id": "38d92844",
   "metadata": {},
   "outputs": [],
   "source": [
    "# 0207.py\n",
    "import cv2\n",
    "\n",
    "##cap = cv2.VideoCapture(0)  # 0번 카메라\n",
    "cap = cv2.VideoCapture('./data/vtest.avi')\n",
    "##cap.set(cv2.CAP_PROP_FRAME_WIDTH, 320)\n",
    "##cap.set(cv2.CAP_PROP_FRAME_HEIGHT, 240)\n",
    "\n",
    "frame_size = (int(cap.get(cv2.CAP_PROP_FRAME_WIDTH)),\n",
    "              int(cap.get(cv2.CAP_PROP_FRAME_HEIGHT)))\n",
    "print('frame_size =', frame_size)\n",
    "\n",
    "while True:   \n",
    "    retval, frame = cap.read() # 프레임 캡처\n",
    "    if not retval:\n",
    "        break\n",
    "\n",
    "    cv2.imshow('frame',frame)\n",
    "    \n",
    "    key = cv2.waitKey(25)\n",
    "    if key == 27: # Esc\n",
    "        break\n",
    "if cap.isOpened():\n",
    "    cap.release()\n",
    "cv2.destroyAllWindows()\n"
   ]
  },
  {
   "cell_type": "code",
   "execution_count": null,
   "id": "4df61c54",
   "metadata": {},
   "outputs": [],
   "source": [
    "# 0208.py"
   ]
  },
  {
   "cell_type": "code",
   "execution_count": null,
   "id": "fbf00469",
   "metadata": {},
   "outputs": [],
   "source": [
    "# 0209.py"
   ]
  },
  {
   "cell_type": "code",
   "execution_count": null,
   "id": "0076d7e2",
   "metadata": {},
   "outputs": [],
   "source": [
    "# 0210.py\n",
    "import cv2\n",
    "\n",
    "cap = cv2.VideoCapture(0) # 0번 카메라\n",
    "frame_size = (int(cap.get(cv2.CAP_PROP_FRAME_WIDTH)),\n",
    "              int(cap.get(cv2.CAP_PROP_FRAME_HEIGHT)))\n",
    "print('frame_size =', frame_size)\n",
    "\n",
    "#fourcc = cv2.VideoWriter_fourcc(*'DIVX')  # ('D', 'I', 'V', 'X')\n",
    "fourcc = cv2.VideoWriter_fourcc(*'XVID')\n",
    "\n",
    "out1 = cv2.VideoWriter('./data/record0.mp4',fourcc, 20.0, frame_size)\n",
    "out2 = cv2.VideoWriter('./data/record1.mp4',fourcc, 20.0, frame_size,isColor=False)\n",
    "\n",
    "while True:\n",
    "    retval, frame = cap.read()\n",
    "    if not retval:\n",
    "        break   \n",
    "    out1.write(frame)\n",
    "    \n",
    "    gray = cv2.cvtColor(frame, cv2.COLOR_BGR2GRAY)\n",
    "    out2.write(gray)        \n",
    "    cv2.imshow('frame',frame)\n",
    "    cv2.imshow('gray',gray)      \n",
    "    \n",
    "    key = cv2.waitKey(25)\n",
    "    if key == 27:\n",
    "        break\n",
    "cap.release()\n",
    "out1.release()\n",
    "out2.release()\n",
    "cv2.destroyAllWindows()\n"
   ]
  },
  {
   "cell_type": "code",
   "execution_count": null,
   "id": "61c0be26",
   "metadata": {},
   "outputs": [],
   "source": [
    "# 0211.py\n",
    "import cv2\n",
    "import matplotlib.pyplot as plt\n",
    "\n",
    "#1\n",
    "def handle_key_press(event):\n",
    "    if event.key == 'escape':\n",
    "        cap.release()\n",
    "        plt.close()       \n",
    "def handle_close(evt):\n",
    "    print('Close figure!')\n",
    "    cap.release()\n",
    "\n",
    "#2 프로그램 시작    \n",
    "cap = cv2.VideoCapture(0) # 0번 카메라\n",
    "\n",
    "plt.ion() # 대화모드 설정\n",
    "fig = plt.figure(figsize=(10, 6)) # fig.set_size_inches(10, 6)\n",
    "plt.axis('off')\n",
    "#ax = fig.gca()\n",
    "#ax.set_axis_off()\n",
    "fig.canvas.set_window_title('Video Capture')\n",
    "fig.canvas.mpl_connect('key_press_event', handle_key_press)\n",
    "fig.canvas.mpl_connect('close_event', handle_close)\n",
    "\n",
    "retval, frame = cap.read() # 첫 프레임 캡처 \n",
    "im = plt.imshow(cv2.cvtColor(frame, cv2.COLOR_BGR2RGB))\n",
    "\n",
    "#3\n",
    "while True:\n",
    "    retval, frame = cap.read() # 프레임 캡처  \n",
    "    if not retval:\n",
    "        break       \n",
    "#    plt.imshow(cv2.cvtColor(frame, cv2.COLOR_BGR2RGB))\n",
    "    im.set_array(cv2.cvtColor(frame, cv2.COLOR_BGR2RGB))\n",
    "    fig.canvas.draw()\n",
    "#   fig.canvas.draw_idle()\n",
    "    fig.canvas.flush_events()  # plt.pause(0.001)\n",
    "if cap.isOpened():\n",
    "    cap.release()\n"
   ]
  },
  {
   "cell_type": "code",
   "execution_count": null,
   "id": "0182acf5",
   "metadata": {},
   "outputs": [],
   "source": [
    "# 0212.py\n",
    "import cv2\n",
    "import matplotlib.pyplot as plt\n",
    "import matplotlib.animation as animation\n",
    "\n",
    "# 프로그램 시작    \n",
    "cap = cv2.VideoCapture(0)\n",
    "fig = plt.figure(figsize=(10, 6)) # fig.set_size_inches(10, 6)\n",
    "fig.canvas.set_window_title('Video Capture')\n",
    "plt.axis('off')\n",
    "\n",
    "def init():\n",
    "    global im\n",
    "    retval, frame = cap.read() # 첫 프레임 캡처\n",
    "    im = plt.imshow(cv2.cvtColor(frame, cv2.COLOR_BGR2RGB))\n",
    "##    return im,\n",
    "\n",
    "def updateFrame(k): \n",
    "    retval, frame = cap.read()\n",
    "    if retval:\n",
    "        im.set_array(cv2.cvtColor(frame, cv2.COLOR_BGR2RGB))\n",
    "\n",
    "ani = animation.FuncAnimation(fig, updateFrame, init_func=init, interval=50)\n",
    "plt.show()\n",
    "if cap.isOpened():\n",
    "    cap.release()\n"
   ]
  },
  {
   "cell_type": "code",
   "execution_count": null,
   "id": "c5c92c3f",
   "metadata": {},
   "outputs": [],
   "source": [
    "# 0213.py\n",
    "import cv2\n",
    "import matplotlib.pyplot as plt\n",
    "import matplotlib.animation as animation\n",
    " \n",
    "class Video:\n",
    "    def __init__(self, device=0):\n",
    "        self.cap = cv2.VideoCapture(device)\n",
    "        self.retval, self.frame = self.cap.read()\n",
    "        self.im = plt.imshow(cv2.cvtColor(self.frame, cv2.COLOR_BGR2RGB))\n",
    "        print('start capture ...')\n",
    "       \n",
    "    def updateFrame(self, k):\n",
    "        self.retval, self.frame = self.cap.read()\n",
    "        self.im.set_array(cv2.cvtColor(camera.frame, cv2.COLOR_BGR2RGB))\n",
    "#       return self.im,\n",
    "\n",
    "    def close(self):\n",
    "        if self.cap.isOpened():\n",
    "            self.cap.release()\n",
    "        print('finish capture.')\n",
    "\n",
    "# 프로그램 시작 \n",
    "fig = plt.figure()\n",
    "fig.canvas.set_window_title('Video Capture')\n",
    "plt.axis(\"off\")\n",
    "\n",
    "camera = Video()\n",
    "##camera = Video('./data/vtest.avi')\n",
    "ani = animation.FuncAnimation(fig, camera.updateFrame, interval=50)\n",
    "plt.show()\n",
    "camera.close()\n"
   ]
  },
  {
   "cell_type": "code",
   "execution_count": 1,
   "id": "21c498e5",
   "metadata": {},
   "outputs": [
    {
     "name": "stderr",
     "output_type": "stream",
     "text": [
      "C:\\Users\\munin\\AppData\\Local\\Temp\\ipykernel_13148\\3627635128.py:12: MatplotlibDeprecationWarning: \n",
      "The set_window_title function was deprecated in Matplotlib 3.4 and will be removed two minor releases later. Use manager.set_window_title or GUI-specific methods instead.\n",
      "  self.fig.canvas.set_window_title('Video Capture')\n"
     ]
    },
    {
     "name": "stdout",
     "output_type": "stream",
     "text": [
      "start capture ...\n"
     ]
    },
    {
     "data": {
      "image/png": "[encoded data removed]",
      "text/plain": [
       "<Figure size 432x288 with 1 Axes>"
      ]
     },
     "metadata": {
      "needs_background": "light"
     },
     "output_type": "display_data"
    },
    {
     "name": "stdout",
     "output_type": "stream",
     "text": [
      "finish capture.\n"
     ]
    }
   ],
   "source": [
    "# 0214.py\n",
    "import cv2\n",
    "import matplotlib.pyplot as plt\n",
    "import matplotlib.animation as animation\n",
    " \n",
    "class Video(animation.FuncAnimation):\n",
    "    def __init__(self, device=0, fig=None, frames=None,\n",
    "                       interval=50, repeat_delay=5, blit=False, **kwargs):\n",
    "\n",
    "        if fig is None:\n",
    "            self.fig = plt.figure()\n",
    "            self.fig.canvas.set_window_title('Video Capture')\n",
    "            plt.axis(\"off\")\n",
    "            \n",
    "        super(Video, self).__init__(self.fig, self.updateFrame, init_func=self.init,\n",
    "                                    frames=frames, interval=interval, blit=blit,\n",
    "                                    repeat_delay=repeat_delay, **kwargs)        \n",
    "        self.cap = cv2.VideoCapture(device)\n",
    "        print(\"start capture ...\")\n",
    "        \n",
    "    def init(self): \n",
    "        retval, self.frame = self.cap.read()\n",
    "        if retval:\n",
    "            self.im = plt.imshow(cv2.cvtColor(self.frame, cv2.COLOR_BGR2RGB))\n",
    "                    \n",
    "    def updateFrame(self, k):\n",
    "        retval, self.frame = self.cap.read()\n",
    "        if retval:\n",
    "            self.im.set_array(cv2.cvtColor(camera.frame, cv2.COLOR_BGR2RGB))\n",
    "#       return self.im,\n",
    "       \n",
    "    def close(self):\n",
    "        if self.cap.isOpened():\n",
    "            self.cap.release()\n",
    "        print(\"finish capture.\")\n",
    "\n",
    "# 프로그램 시작 \n",
    "camera = Video()\n",
    "##camera = Video('./data/vtest.avi')\n",
    "plt.show()\n",
    "camera.close()\n"
   ]
  },
  {
   "cell_type": "code",
   "execution_count": 2,
   "id": "05a55b29",
   "metadata": {},
   "outputs": [
    {
     "name": "stderr",
     "output_type": "stream",
     "text": [
      "C:\\Users\\munin\\AppData\\Local\\Temp\\ipykernel_13148\\903010186.py:12: MatplotlibDeprecationWarning: \n",
      "The set_window_title function was deprecated in Matplotlib 3.4 and will be removed two minor releases later. Use manager.set_window_title or GUI-specific methods instead.\n",
      "  self.fig.canvas.set_window_title('Video Capture')\n"
     ]
    },
    {
     "name": "stdout",
     "output_type": "stream",
     "text": [
      "start capture ...\n"
     ]
    },
    {
     "data": {
      "image/png": "[encoded data removed]",
      "text/plain": [
       "<Figure size 720x360 with 2 Axes>"
      ]
     },
     "metadata": {
      "needs_background": "light"
     },
     "output_type": "display_data"
    },
    {
     "name": "stdout",
     "output_type": "stream",
     "text": [
      "finish capture.\n"
     ]
    }
   ],
   "source": [
    "# 0215.py\n",
    "import cv2\n",
    "import numpy as np\n",
    "import matplotlib.pyplot as plt\n",
    "import matplotlib.animation as animation\n",
    " \n",
    "class Video(animation.FuncAnimation):\n",
    "    def __init__(self, device=0, fig=None, frames=None,\n",
    "                       interval=80, repeat_delay=5, blit=False, **kwargs):\n",
    "        if fig is None:\n",
    "            self.fig, self.ax = plt.subplots(1, 2, figsize=(10,5))\n",
    "            self.fig.canvas.set_window_title('Video Capture')\n",
    "            self.ax[0].set_position([0, 0, 0.5, 1])\n",
    "            self.ax[0].axis('off')\n",
    "\n",
    "            self.ax[1].set_position([0.5, 0, 0.5, 1])\n",
    "            self.ax[1].axis('off')\n",
    "##            plt.subplots_adjust(left=0,bottom=0,right=1,top=1,\n",
    "##                                wspace=0.05,hspace=0.05)\n",
    "            \n",
    "        super(Video, self).__init__(self.fig, self.updateFrame, init_func=self.init,\n",
    "                                   frames=frames, interval=interval, blit=blit,\n",
    "                                   repeat_delay=repeat_delay, **kwargs)        \n",
    "        self.cap = cv2.VideoCapture(device)\n",
    "        print('start capture ...')\n",
    "        \n",
    "    def init(self): \n",
    "        retval, self.frame = self.cap.read()\n",
    "        if retval:\n",
    "            self.im0 = self.ax[0].imshow(cv2.cvtColor(self.frame, cv2.COLOR_BGR2RGB),\n",
    "                                      aspect = 'auto')\n",
    "            self.im1 = self.ax[1].imshow(np.zeros(self.frame.shape, self.frame.dtype),\n",
    "                                      aspect = 'auto')                    \n",
    "    def updateFrame(self, k):\n",
    "        retval, self.frame = self.cap.read()\n",
    "        if retval:\n",
    "            self.im0.set_array(cv2.cvtColor(self.frame, cv2.COLOR_BGR2RGB))\n",
    "\n",
    "            gray = cv2.cvtColor(self.frame, cv2.COLOR_BGR2GRAY)\n",
    "            self.im1.set_array(cv2.merge((gray,gray,gray)))\n",
    "            \n",
    "    def close(self):\n",
    "        if self.cap.isOpened():\n",
    "            self.cap.release()\n",
    "        print('finish capture.')\n",
    "\n",
    "\n",
    "# 프로그램 시작 \n",
    "camera = Video()\n",
    "plt.show()\n",
    "camera.close()\n"
   ]
  },
  {
   "cell_type": "code",
   "execution_count": null,
   "id": "83c3118b",
   "metadata": {},
   "outputs": [],
   "source": []
  }
 ],
 "metadata": {
  "kernelspec": {
   "display_name": "Python 3 (ipykernel)",
   "language": "python",
   "name": "python3"
  },
  "language_info": {
   "codemirror_mode": {
    "name": "ipython",
    "version": 3
   },
   "file_extension": ".py",
   "mimetype": "text/x-python",
   "name": "python",
   "nbconvert_exporter": "python",
   "pygments_lexer": "ipython3",
   "version": "3.9.12"
  }
 },
 "nbformat": 4,
 "nbformat_minor": 5
}
