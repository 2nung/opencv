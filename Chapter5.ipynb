{
 "cells": [
  {
   "cell_type": "code",
   "execution_count": null,
   "id": "311da6f6",
   "metadata": {},
   "outputs": [],
   "source": [
    "# 0501.py\n",
    "import cv2\n",
    "import numpy as np\n",
    "src = cv2.imread('./data/heart10.jpg', cv2.IMREAD_GRAYSCALE)\n",
    "cv2.imshow('src',  src)\n",
    "\n",
    "ret, dst = cv2.threshold(src, 120, 255, cv2.THRESH_BINARY)\n",
    "print('ret=', ret)\n",
    "cv2.imshow('dst',  dst)\n",
    "\n",
    "ret2, dst2 = cv2.threshold(src, 200, 255,\n",
    "                             cv2.THRESH_BINARY+cv2.THRESH_OTSU)\n",
    "print('ret2=', ret2)\n",
    "cv2.imshow('dst2',  dst2)\n",
    "\n",
    "cv2.waitKey()    \n",
    "cv2.destroyAllWindows()\n"
   ]
  },
  {
   "cell_type": "code",
   "execution_count": null,
   "id": "92aa43ce",
   "metadata": {},
   "outputs": [],
   "source": [
    "# 0502.py\n",
    "import cv2\n",
    "import numpy as np\n",
    "src = cv2.imread('./data/srcThreshold.png', cv2.IMREAD_GRAYSCALE)\n",
    "cv2.imshow('src',  src)\n",
    "\n",
    "ret, dst = cv2.threshold(src, 0, 255,\n",
    "                             cv2.THRESH_BINARY+cv2.THRESH_OTSU)\n",
    "cv2.imshow('dst',  dst)\n",
    "\n",
    "dst2 = cv2.adaptiveThreshold(src, 255, cv2.ADAPTIVE_THRESH_MEAN_C,\n",
    "                            cv2.THRESH_BINARY, 51, 7)\n",
    "cv2.imshow('dst2',  dst2)\n",
    "\n",
    "dst3 = cv2.adaptiveThreshold(src, 255, cv2.ADAPTIVE_THRESH_GAUSSIAN_C,\n",
    "                            cv2.THRESH_BINARY, 51, 7)\n",
    "cv2.imshow('dst3',  dst3)\n",
    "\n",
    "cv2.waitKey()    \n",
    "cv2.destroyAllWindows()\n"
   ]
  },
  {
   "cell_type": "code",
   "execution_count": null,
   "id": "f6aaaa26",
   "metadata": {},
   "outputs": [],
   "source": [
    "# 0503.py\n",
    "import cv2\n",
    "import numpy as np\n",
    "\n",
    "src = np.array([[0, 0, 0, 0],\n",
    "              [1, 1, 3, 5],\n",
    "              [6, 1, 1, 3],\n",
    "              [4, 3, 1, 7]\n",
    "              ], dtype=np.uint8)\n",
    "\n",
    "hist1 = cv2.calcHist(images=[src], channels=[0], mask=None,\n",
    "                    histSize=[4], ranges=[0, 8])\n",
    "print('hist1 = ', hist1)\n",
    "\n",
    "hist2 = cv2.calcHist(images=[src], channels=[0], mask=None,\n",
    "                    histSize=[4], ranges=[0, 4])\n",
    "print('hist2 = ', hist2)\n"
   ]
  },
  {
   "cell_type": "code",
   "execution_count": null,
   "id": "7b92945b",
   "metadata": {},
   "outputs": [],
   "source": [
    "# 0504.py\n",
    "import cv2\n",
    "import numpy as np\n",
    "from   matplotlib import pyplot as plt\n",
    "\n",
    "src = cv2.imread('./data/lena.jpg', cv2.IMREAD_GRAYSCALE)\n",
    "\n",
    "hist1 = cv2.calcHist(images=[src], channels=[0], mask=None,\n",
    "                    histSize=[32], ranges=[0, 256])\n",
    "\n",
    "hist2 = cv2.calcHist(images=[src], channels=[0], mask=None,\n",
    "                    histSize=[256], ranges=[0, 256])\n",
    "#1\n",
    "hist1 = hist1.flatten()\n",
    "hist2 = hist2.flatten()\n",
    "\n",
    "#2\n",
    "plt.title('hist1: binX = np.arange(32)')\n",
    "plt.plot(hist1, color='r')\n",
    "binX = np.arange(32)\n",
    "\n",
    "plt.bar(binX, hist1, width=1, color='b')\n",
    "plt.show()\n",
    "\n",
    "#3\n",
    "plt.title('hist1: binX = np.arange(32)*8')\n",
    "binX = np.arange(32)*8\n",
    "plt.plot(binX, hist1, color='r')\n",
    "plt.bar(binX, hist1, width=8, color='b')\n",
    "plt.show()\n",
    "\n",
    "#4\n",
    "plt.title('hist2: binX = np.arange(256)')\n",
    "plt.plot(hist2, color='r')\n",
    "binX = np.arange(256)\n",
    "plt.bar(binX, hist2, width=1, color='b')\n",
    "plt.show()\n"
   ]
  },
  {
   "cell_type": "code",
   "execution_count": null,
   "id": "8251604c",
   "metadata": {},
   "outputs": [],
   "source": [
    "# 0505.py\n",
    "import cv2\n",
    "import numpy as np\n",
    "from   matplotlib import pyplot as plt\n",
    "\n",
    "src = cv2.imread('./data/lena.jpg')\n",
    "histColor = ('b', 'g', 'r')\n",
    "for i in range(3):\n",
    "    hist = cv2.calcHist(images=[src], channels=[i], mask=None,\n",
    "                    histSize=[256], ranges=[0, 256])\n",
    "    plt.plot(hist, color = histColor[i])    \n",
    "plt.show()\n"
   ]
  },
  {
   "cell_type": "code",
   "execution_count": null,
   "id": "0f28a3f4",
   "metadata": {},
   "outputs": [],
   "source": [
    "# 0506.py\n",
    "import cv2\n",
    "from   matplotlib import pyplot as plt\n",
    "\n",
    "bgr = cv2.imread('./data/lena.jpg')\n",
    "##hsv    = cv2.cvtColor(src, cv2.COLOR_BGR2HSV)\n",
    "\n",
    "#1\n",
    "hist01 = cv2.calcHist([bgr], [0,1], None,\n",
    "\t[32, 32], [0, 256, 0, 256])\n",
    "##cv2.normalize(hist01, hist01, 0, 1, cv2.NORM_MINMAX)\n",
    "##fig = plt.figure()\n",
    "##fig.canvas.set_window_title('2D Histogram')\n",
    "\n",
    "plt.title('hist01')\n",
    "plt.ylim(0, 31)\n",
    "plt.imshow(hist01, interpolation = \"nearest\")\n",
    "plt.show()\n",
    "\n",
    "#2\n",
    "hist02 = cv2.calcHist([bgr], [0,2], None,\n",
    "\t[32, 32], [0, 256, 0, 256])\n",
    "plt.title('hist02')\n",
    "plt.ylim(0, 31)\n",
    "plt.imshow(hist02, interpolation = \"nearest\")\n",
    "plt.show()\n",
    "\n",
    "#3\n",
    "hist12 = cv2.calcHist([bgr], [1,2], None,\n",
    "\t[32, 32], [0, 256, 0, 256])\n",
    "plt.title('hist12')\n",
    "plt.ylim(0, 31)\n",
    "plt.imshow(hist02, interpolation = \"nearest\")\n",
    "plt.show()\n"
   ]
  },
  {
   "cell_type": "code",
   "execution_count": null,
   "id": "9e967c3c",
   "metadata": {},
   "outputs": [],
   "source": [
    "# 0507.py\n",
    "import cv2\n",
    "import numpy as np\n",
    "\n",
    "src = np.array([[0, 0, 0, 0],\n",
    "                [1, 1, 3, 5],\n",
    "                [6, 1, 1, 3],\n",
    "                [4, 3, 1, 7]\n",
    "              ], dtype=np.uint8)\n",
    "\n",
    "dst = cv2.equalizeHist(src)\n",
    "print('dst =', dst)\n"
   ]
  },
  {
   "cell_type": "code",
   "execution_count": 2,
   "id": "35314b7b",
   "metadata": {},
   "outputs": [
    {
     "data": {
      "image/png": "[encoded data removed]",
      "text/plain": [
       "<Figure size 432x288 with 1 Axes>"
      ]
     },
     "metadata": {
      "needs_background": "light"
     },
     "output_type": "display_data"
    }
   ],
   "source": [
    "# 0508.py\n",
    "import cv2\n",
    "import numpy as np\n",
    "from   matplotlib import pyplot as plt\n",
    "\n",
    "src = cv2.imread('./data/lena.jpg', cv2.IMREAD_GRAYSCALE)\n",
    "dst = cv2.equalizeHist(src)\n",
    "cv2.imshow('dst',  dst)\n",
    "cv2.waitKey()    \n",
    "cv2.destroyAllWindows()\n",
    "\n",
    "plt.title('Grayscale histogram of lena.jpg')\n",
    "\n",
    "hist1 = cv2.calcHist(images=[src], channels=[0], mask=None,\n",
    "                    histSize=[256], ranges=[0, 256])\n",
    "plt.plot(hist1, color='b', label='hist1 in src')\n",
    "\n",
    "hist2 = cv2.calcHist(images=[dst], channels=[0], mask=None,\n",
    "                    histSize=[256], ranges=[0, 256])\n",
    "plt.plot(hist2, color='r', alpha=0.7, label='hist2 in dst')\n",
    "plt.legend(loc='best')\n",
    "plt.show()\n"
   ]
  },
  {
   "cell_type": "code",
   "execution_count": 3,
   "id": "382146b4",
   "metadata": {},
   "outputs": [],
   "source": [
    "# 0509.py\n",
    "import cv2\n",
    "import numpy as np\n",
    "\n",
    "src = cv2.imread('./data/lena.jpg')\n",
    "cv2.imshow('src',  src)\n",
    "\n",
    "#1\n",
    "hsv    = cv2.cvtColor(src, cv2.COLOR_BGR2HSV)\n",
    "h, s, v = cv2.split(hsv)\n",
    "\n",
    "v2 = cv2.equalizeHist(v)\n",
    "hsv2 = cv2.merge([h, s, v2])\n",
    "dst    = cv2.cvtColor(hsv2, cv2.COLOR_HSV2BGR)\n",
    "cv2.imshow('dst',  dst)\n",
    "\n",
    "#2\n",
    "yCrCv = cv2.cvtColor(src, cv2.COLOR_BGR2YCrCb)\n",
    "y, Cr, Cv = cv2.split(yCrCv)\n",
    "\n",
    "y2 = cv2.equalizeHist(y)\n",
    "yCrCv2 = cv2.merge([y2, Cr, Cv])\n",
    "dst2    = cv2.cvtColor(yCrCv2, cv2.COLOR_YCrCb2BGR)\n",
    "\n",
    "cv2.imshow('dst2',  dst2)\n",
    "cv2.waitKey()    \n",
    "cv2.destroyAllWindows()\n"
   ]
  },
  {
   "cell_type": "code",
   "execution_count": 4,
   "id": "d4242e5b",
   "metadata": {},
   "outputs": [
    {
     "name": "stdout",
     "output_type": "stream",
     "text": [
      "hist =  [[9.]\n",
      " [3.]\n",
      " [2.]\n",
      " [2.]]\n",
      "backP =  [[9 9 9 9]\n",
      " [9 9 3 2]\n",
      " [2 9 9 3]\n",
      " [2 3 9 2]]\n"
     ]
    }
   ],
   "source": [
    "# 0510.py\n",
    "import cv2\n",
    "import numpy as np\n",
    "\n",
    "src = np.array([[0, 0, 0, 0],\n",
    "              [1, 1, 3, 5],\n",
    "              [6, 1, 1, 3],\n",
    "              [4, 3, 1, 7]\n",
    "              ], dtype=np.uint8)\n",
    "\n",
    "hist = cv2.calcHist(images=[src], channels=[0], mask=None,\n",
    "                    histSize=[4], ranges=[0, 8])\n",
    "print('hist = ', hist)\n",
    "\n",
    "backP = cv2.calcBackProject([src], [0], hist, [0, 8], scale=1)\n",
    "print('backP = ', backP)\n"
   ]
  },
  {
   "cell_type": "code",
   "execution_count": 5,
   "id": "a3c6fae7",
   "metadata": {},
   "outputs": [
    {
     "name": "stdout",
     "output_type": "stream",
     "text": [
      "roi = (143, 142, 288, 249)\n",
      "T = 13477.0\n"
     ]
    }
   ],
   "source": [
    "# 0511.py\n",
    "import cv2\n",
    "import numpy as np\n",
    "\n",
    "#1\n",
    "src = cv2.imread('./data/fruits.jpg')\n",
    "hsv = cv2.cvtColor(src, cv2.COLOR_BGR2HSV)\n",
    "h, s, v = cv2.split(hsv)\n",
    "\n",
    "#2\n",
    "roi = cv2.selectROI(src)\n",
    "print('roi =', roi)\n",
    "roi_h = h[roi[1]:roi[1]+roi[3], roi[0]:roi[0]+roi[2]]\n",
    "hist = cv2.calcHist([roi_h], [0], None,[64], [0, 256])\n",
    "backP= cv2.calcBackProject([h.astype(np.float32)], [0], hist,[0, 256],scale=1.0)\n",
    "##minVal, maxVal, minLoc, maxLoc = cv2.minMaxLoc(backP)\n",
    "##T = maxVal -1 # threshold\n",
    "\n",
    "#3\n",
    "hist = cv2.sort(hist, cv2.SORT_EVERY_COLUMN+cv2.SORT_DESCENDING)\n",
    "k = 1 \n",
    "T = hist[k][0] -1 # threshold\n",
    "print('T =', T)\n",
    "ret, dst = cv2.threshold(backP, T, 255, cv2.THRESH_BINARY)\n",
    "\n",
    "cv2.imshow('dst',  dst)\n",
    "cv2.waitKey()    \n",
    "cv2.destroyAllWindows()\n"
   ]
  },
  {
   "cell_type": "code",
   "execution_count": 6,
   "id": "3e2f911c",
   "metadata": {},
   "outputs": [
    {
     "name": "stdout",
     "output_type": "stream",
     "text": [
      "d1(H1, H2, CORREL) = 0.5745400493684614\n",
      "d2(H1, H2, CHISQR)= 65.51618474756889\n",
      "d3(H1, H2, INTERSECT)= 0.49012999055776163\n",
      "d4(H1, H2, BHATTACHARYYA)= 0.4875887569545638\n"
     ]
    },
    {
     "data": {
      "image/png": "[encoded data removed]",
      "text/plain": [
       "<Figure size 432x288 with 1 Axes>"
      ]
     },
     "metadata": {
      "needs_background": "light"
     },
     "output_type": "display_data"
    }
   ],
   "source": [
    "# 0512.py\n",
    "import cv2\n",
    "import numpy as np\n",
    "import time\n",
    "from   matplotlib import pyplot as plt\n",
    "\n",
    "#1\n",
    "nPoints = 100000\n",
    "pts1 = np.zeros((nPoints, 1), dtype=np.uint16)\n",
    "pts2 = np.zeros((nPoints, 1), dtype=np.uint16)\n",
    "\n",
    "cv2.setRNGSeed(int(time.time()))\n",
    "cv2.randn(pts1, mean=(128), stddev=(10))\n",
    "cv2.randn(pts2, mean=(110), stddev=(20))            \n",
    "\n",
    "#2\n",
    "H1 = cv2.calcHist(images=[pts1], channels=[0], mask=None,\n",
    "                    histSize=[256], ranges=[0, 256])\n",
    "cv2.normalize(H1, H1, 1, 0, cv2.NORM_L1)\n",
    "plt.plot(H1, color='r', label='H1')\n",
    "\n",
    "H2 = cv2.calcHist(images=[pts2], channels=[0], mask=None,\n",
    "                    histSize=[256], ranges=[0, 256])\n",
    "cv2.normalize(H2, H2, 1, 0, cv2.NORM_L1)\n",
    "\n",
    "#3\n",
    "d1 = cv2.compareHist(H1, H2, cv2.HISTCMP_CORREL)\n",
    "d2 = cv2.compareHist(H1, H2, cv2.HISTCMP_CHISQR)\n",
    "d3 = cv2.compareHist(H1, H2, cv2.HISTCMP_INTERSECT)\n",
    "d4 = cv2.compareHist(H1, H2, cv2.HISTCMP_BHATTACHARYYA)\n",
    "print('d1(H1, H2, CORREL) =',       d1)\n",
    "print('d2(H1, H2, CHISQR)=',        d2)\n",
    "print('d3(H1, H2, INTERSECT)=',     d3)\n",
    "print('d4(H1, H2, BHATTACHARYYA)=', d4)\n",
    "\n",
    "plt.plot(H2, color='b', label='H2')\n",
    "plt.legend(loc='best')\n",
    "plt.show()\n"
   ]
  },
  {
   "cell_type": "code",
   "execution_count": 7,
   "id": "7d5362a2",
   "metadata": {},
   "outputs": [
    {
     "name": "stdout",
     "output_type": "stream",
     "text": [
      "EMD(S1, S2, DIST_L1) = 18.393850326538086\n",
      "EMD(S1, S2, DIST_L2) = 18.393850326538086\n",
      "EMD(S1, S2, DIST_C) = 18.393850326538086\n"
     ]
    },
    {
     "data": {
      "image/png": "[encoded data removed]",
      "text/plain": [
       "<Figure size 432x288 with 1 Axes>"
      ]
     },
     "metadata": {
      "needs_background": "light"
     },
     "output_type": "display_data"
    }
   ],
   "source": [
    "# 0513.py\n",
    "import cv2\n",
    "import numpy as np\n",
    "import time\n",
    "from   matplotlib import pyplot as plt\n",
    "\n",
    "#1\n",
    "nPoints = 100000\n",
    "pts1 = np.zeros((nPoints, 1), dtype=np.uint16)\n",
    "pts2 = np.zeros((nPoints, 1), dtype=np.uint16)\n",
    "\n",
    "cv2.setRNGSeed(int(time.time()))\n",
    "cv2.randn(pts1, mean=(128), stddev=(10))\n",
    "cv2.randn(pts2, mean=(110), stddev=(20))            \n",
    "\n",
    "#2\n",
    "H1 = cv2.calcHist(images=[pts1], channels=[0], mask=None,\n",
    "                    histSize=[256], ranges=[0, 256])\n",
    "##cv2.normalize(H1, H1, norm_type=cv2.NORM_L1)\n",
    "\n",
    "H2 = cv2.calcHist(images=[pts2], channels=[0], mask=None,\n",
    "                    histSize=[256], ranges=[0, 256])\n",
    "##cv2.normalize(H2, H2, norm_type=cv2.NORM_L1)\n",
    "\n",
    "#3\n",
    "S1 = np.zeros((H1.shape[0], 2), dtype=np.float32)\n",
    "S2 = np.zeros((H1.shape[0], 2), dtype=np.float32)\n",
    "##S1[:, 0] = H1[:, 0]\n",
    "##S2[:, 0] = H2[:, 0]\n",
    "for i in range(S1.shape[0]):\n",
    "    S1[i, 0] = H1[i,0]\n",
    "    S2[i, 0] = H2[i,0]\n",
    "    S1[i, 1] = i\n",
    "    S2[i, 1] = i\n",
    "\n",
    "emd1, lowerBound, flow = cv2.EMD(S1, S2, cv2.DIST_L1)\n",
    "print('EMD(S1, S2, DIST_L1) =',  emd1)\n",
    "\n",
    "emd2, lowerBound, flow = cv2.EMD(S1, S2, cv2.DIST_L2)\n",
    "print('EMD(S1, S2, DIST_L2) =',  emd2)\n",
    "\n",
    "emd3, lowerBound, flow = cv2.EMD(S1, S2, cv2.DIST_C) \n",
    "print('EMD(S1, S2, DIST_C) =',  emd3)\n",
    "\n",
    "plt.plot(H1, color='r', label='H1')\n",
    "plt.plot(H2, color='b', label='H2')\n",
    "plt.legend(loc='best')\n",
    "plt.show()\n"
   ]
  },
  {
   "cell_type": "code",
   "execution_count": null,
   "id": "8cb800ab",
   "metadata": {},
   "outputs": [],
   "source": []
  }
 ],
 "metadata": {
  "kernelspec": {
   "display_name": "Python 3 (ipykernel)",
   "language": "python",
   "name": "python3"
  },
  "language_info": {
   "codemirror_mode": {
    "name": "ipython",
    "version": 3
   },
   "file_extension": ".py",
   "mimetype": "text/x-python",
   "name": "python",
   "nbconvert_exporter": "python",
   "pygments_lexer": "ipython3",
   "version": "3.9.12"
  }
 },
 "nbformat": 4,
 "nbformat_minor": 5
}
